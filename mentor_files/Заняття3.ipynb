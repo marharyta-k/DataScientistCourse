{
 "cells": [
  {
   "cell_type": "code",
   "execution_count": 8,
   "id": "90c404fb",
   "metadata": {},
   "outputs": [],
   "source": [
    "class Car:\n",
    "    name = None\n",
    "    age = None\n",
    "    is_rnd = None\n",
    "\n",
    "car1 = Car()\n",
    "car1.name = 'Toyota'\n",
    "car1.age = 2000\n",
    "car1.is_rnd = True\n",
    "\n",
    "car2 = Car()\n",
    "car2.name = 'Audi'\n",
    "car2.age = 2017\n",
    "car2.is_rnd = False"
   ]
  },
  {
   "cell_type": "code",
   "execution_count": 5,
   "id": "4a14ad6f",
   "metadata": {},
   "outputs": [
    {
     "name": "stdout",
     "output_type": "stream",
     "text": [
      "Toyota\n",
      "Audi\n"
     ]
    }
   ],
   "source": [
    "print(car1.name)\n",
    "print(car2.name)"
   ]
  },
  {
   "cell_type": "code",
   "execution_count": null,
   "id": "189ec6ef",
   "metadata": {},
   "outputs": [],
   "source": [
    "class Car:\n",
    "    name = None\n",
    "    age = None\n",
    "    is_rnd = None\n",
    "\n",
    "    def set_data(self, name, age, is_rnd):\n",
    "        self.name = name\n",
    "        self.age = age\n",
    "        self.is_rnd = is_rnd\n",
    "    \n",
    "    def get_data(self):\n",
    "        print(self.name, \"Year:\", self.age, \". Is Run and Drive:\", self.is_rnd)"
   ]
  },
  {
   "cell_type": "code",
   "execution_count": 9,
   "id": "20e0c178",
   "metadata": {},
   "outputs": [],
   "source": [
    "car1.set_data('Toyota', 2000, True)\n",
    "\n",
    "car2.set_data('Audi', 2017, False)"
   ]
  },
  {
   "cell_type": "code",
   "execution_count": 10,
   "id": "ece85b44",
   "metadata": {},
   "outputs": [
    {
     "name": "stdout",
     "output_type": "stream",
     "text": [
      "Toyota Year: 2000 Is Run and Drive: True\n",
      "Audi Year: 2017 Is Run and Drive: False\n"
     ]
    }
   ],
   "source": [
    "car1.get_data()\n",
    "car2.get_data()"
   ]
  },
  {
   "cell_type": "code",
   "execution_count": 13,
   "id": "cac04b29",
   "metadata": {},
   "outputs": [
    {
     "name": "stdout",
     "output_type": "stream",
     "text": [
      "Toyota Year: 2000 . Is Run and Drive: True\n"
     ]
    }
   ],
   "source": [
    "class Car:\n",
    "    name = None\n",
    "    age = None\n",
    "    is_rnd = None\n",
    "    \n",
    "    def __init__(self, name, age, is_rnd):\n",
    "        self.name = name\n",
    "        self.age = age\n",
    "        self.is_rnd = is_rnd\n",
    "    \n",
    "    def get_data(self):\n",
    "        print(self.name, \"Year:\", self.age, \". Is Run and Drive:\", self.is_rnd)\n",
    "\n",
    "car1 = Car('Toyota', 2000, True)\n",
    "car1.get_data()"
   ]
  },
  {
   "cell_type": "code",
   "execution_count": null,
   "id": "9a33fd6c",
   "metadata": {},
   "outputs": [],
   "source": []
  },
  {
   "cell_type": "code",
   "execution_count": 14,
   "id": "dec471e6",
   "metadata": {},
   "outputs": [],
   "source": [
    "class Toyota(Car):\n",
    "    gear_force = 0\n",
    "    \n",
    "    def __init__(self, name, age, is_rnd, gear_force):\n",
    "        super(Toyota, self).__init__(name, age, is_rnd)\n",
    "        self.gear_force = gear_force\n",
    "    "
   ]
  },
  {
   "cell_type": "code",
   "execution_count": null,
   "id": "b475c16c",
   "metadata": {},
   "outputs": [],
   "source": []
  }
 ],
 "metadata": {
  "kernelspec": {
   "display_name": "Python 3",
   "language": "python",
   "name": "python3"
  },
  "language_info": {
   "codemirror_mode": {
    "name": "ipython",
    "version": 3
   },
   "file_extension": ".py",
   "mimetype": "text/x-python",
   "name": "python",
   "nbconvert_exporter": "python",
   "pygments_lexer": "ipython3",
   "version": "3.8.8"
  }
 },
 "nbformat": 4,
 "nbformat_minor": 5
}
