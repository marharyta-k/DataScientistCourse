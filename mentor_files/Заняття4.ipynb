{
 "cells": [
  {
   "cell_type": "code",
   "execution_count": 8,
   "id": "823b8951",
   "metadata": {},
   "outputs": [],
   "source": [
    "class Car:\n",
    "    name = None\n",
    "    age = None\n",
    "    is_rnd = None\n",
    "\n",
    "car1 = Car()\n",
    "car1.name = 'Toyota'\n",
    "car1.age = 2000\n",
    "car1.is_rnd = True\n",
    "\n",
    "car2 = Car()\n",
    "car2.name = 'Audi'\n",
    "car2.age = 2017\n",
    "car2.is_rnd = False"
   ]
  },
  {
   "cell_type": "code",
   "execution_count": 5,
   "id": "68343f65",
   "metadata": {},
   "outputs": [
    {
     "name": "stdout",
     "output_type": "stream",
     "text": [
      "Toyota\n",
      "Audi\n"
     ]
    }
   ],
   "source": [
    "print(car1.name)\n",
    "print(car2.name)"
   ]
  },
  {
   "cell_type": "code",
   "execution_count": null,
   "id": "bcd867f8",
   "metadata": {},
   "outputs": [],
   "source": [
    "class Car:\n",
    "    name = None\n",
    "    age = None\n",
    "    is_rnd = None\n",
    "\n",
    "    def set_data(self, name, age, is_rnd):\n",
    "        self.name = name\n",
    "        self.age = age\n",
    "        self.is_rnd = is_rnd\n",
    "    \n",
    "    def get_data(self):\n",
    "        print(self.name, \"Year:\", self.age, \". Is Run and Drive:\", self.is_rnd)"
   ]
  },
  {
   "cell_type": "code",
   "execution_count": 9,
   "id": "cf972d49",
   "metadata": {},
   "outputs": [],
   "source": [
    "car1.set_data('Toyota', 2000, True)\n",
    "\n",
    "car2.set_data('Audi', 2017, False)"
   ]
  },
  {
   "cell_type": "code",
   "execution_count": 10,
   "id": "e4ac666d",
   "metadata": {},
   "outputs": [
    {
     "name": "stdout",
     "output_type": "stream",
     "text": [
      "Toyota Year: 2000 Is Run and Drive: True\n",
      "Audi Year: 2017 Is Run and Drive: False\n"
     ]
    }
   ],
   "source": [
    "car1.get_data()\n",
    "car2.get_data()"
   ]
  },
  {
   "cell_type": "code",
   "execution_count": 30,
   "id": "3e0dd2eb",
   "metadata": {},
   "outputs": [
    {
     "name": "stdout",
     "output_type": "stream",
     "text": [
      "Toyota Year: 2000 . Is Run and Drive: True\n"
     ]
    }
   ],
   "source": [
    "class Car:\n",
    "    name = None\n",
    "    age = None\n",
    "    is_rnd = None\n",
    "    \n",
    "    def __init__(self, name, age, is_rnd):\n",
    "        self.name = name\n",
    "        self.age = age\n",
    "        self.is_rnd = is_rnd\n",
    "    \n",
    "    def get_data(self):\n",
    "        print(self.name, \"Year:\", self.age, \". Is Run and Drive:\", self.is_rnd)\n",
    "    \n",
    "    def honk(self):\n",
    "        return 'Car Beep'\n",
    "\n",
    "car1 = Car('Toyota', 2000, True)\n",
    "car1.get_data()"
   ]
  },
  {
   "cell_type": "code",
   "execution_count": null,
   "id": "d16cd67d",
   "metadata": {},
   "outputs": [],
   "source": []
  },
  {
   "cell_type": "code",
   "execution_count": 15,
   "id": "1af3cf76",
   "metadata": {},
   "outputs": [],
   "source": [
    "class Toyota(Car):\n",
    "    gear_force = 0\n",
    "    \n",
    "    def __init__(self, name, age, is_rnd, gear_force):\n",
    "        super(Toyota, self).__init__(name, age, is_rnd)\n",
    "        self.gear_force = gear_force\n",
    "    "
   ]
  },
  {
   "cell_type": "code",
   "execution_count": 29,
   "id": "0d65848c",
   "metadata": {},
   "outputs": [
    {
     "name": "stdout",
     "output_type": "stream",
     "text": [
      "4\n",
      "AB\n"
     ]
    }
   ],
   "source": [
    "print(2+2)\n",
    "print('A'+'B')"
   ]
  },
  {
   "cell_type": "code",
   "execution_count": 35,
   "id": "efccba2a",
   "metadata": {},
   "outputs": [],
   "source": [
    "class Ford(Car):\n",
    "    pass\n",
    "\n",
    "ford = Ford('Ford', 2020, True)"
   ]
  },
  {
   "cell_type": "code",
   "execution_count": 28,
   "id": "5488837a",
   "metadata": {},
   "outputs": [
    {
     "name": "stdout",
     "output_type": "stream",
     "text": [
      "Ford Year: 2020 . Is Run and Drive: True\n"
     ]
    }
   ],
   "source": [
    "ford.get_data()"
   ]
  },
  {
   "cell_type": "code",
   "execution_count": 32,
   "id": "63bfac3d",
   "metadata": {},
   "outputs": [],
   "source": [
    "toyota = Toyota('Toyota', 2000, True, 15)"
   ]
  },
  {
   "cell_type": "code",
   "execution_count": 27,
   "id": "6e918396",
   "metadata": {},
   "outputs": [
    {
     "name": "stdout",
     "output_type": "stream",
     "text": [
      "Toyota Year: 2000 . Is Run and Drive: True\n",
      "Manual gear force: 15\n"
     ]
    }
   ],
   "source": [
    "toyota.get_data()"
   ]
  },
  {
   "cell_type": "code",
   "execution_count": 31,
   "id": "0fd4f397",
   "metadata": {},
   "outputs": [],
   "source": [
    "class Toyota(Car):\n",
    "    gear_force = 0\n",
    "    \n",
    "    def __init__(self, name, age, is_rnd, gear_force):\n",
    "        super(Toyota, self).__init__(name, age, is_rnd)\n",
    "        self.gear_force = gear_force\n",
    "    \n",
    "    def get_data(self):\n",
    "        super().get_data()\n",
    "        print('Manual gear force:', self.gear_force)\n",
    "    \n",
    "    def honk(self):\n",
    "        return 'Toyota Beep'"
   ]
  },
  {
   "cell_type": "code",
   "execution_count": 33,
   "id": "a7d33092",
   "metadata": {},
   "outputs": [
    {
     "data": {
      "text/plain": [
       "'Toyota Beep'"
      ]
     },
     "execution_count": 33,
     "metadata": {},
     "output_type": "execute_result"
    }
   ],
   "source": [
    "toyota.honk()"
   ]
  },
  {
   "cell_type": "code",
   "execution_count": 36,
   "id": "f6dcb8e5",
   "metadata": {},
   "outputs": [
    {
     "data": {
      "text/plain": [
       "'Car Beep'"
      ]
     },
     "execution_count": 36,
     "metadata": {},
     "output_type": "execute_result"
    }
   ],
   "source": [
    "ford.honk()"
   ]
  },
  {
   "cell_type": "code",
   "execution_count": 42,
   "id": "cf776774",
   "metadata": {},
   "outputs": [
    {
     "data": {
      "text/plain": [
       "'Toyota'"
      ]
     },
     "execution_count": 42,
     "metadata": {},
     "output_type": "execute_result"
    }
   ],
   "source": [
    "Toyota.__name__\n",
    "Toyota.__bases__"
   ]
  },
  {
   "cell_type": "code",
   "execution_count": 66,
   "id": "aa51f575",
   "metadata": {},
   "outputs": [],
   "source": [
    "def decorator(function):\n",
    "    def decorated_function():\n",
    "        print('Цей код виконується ДО виклику функції')\n",
    "        function()\n",
    "        print('Цей код виконається ПІСЛЯ виклику функції')\n",
    "    return decorated_function()\n"
   ]
  },
  {
   "cell_type": "code",
   "execution_count": 45,
   "id": "a0af6535",
   "metadata": {},
   "outputs": [
    {
     "name": "stdout",
     "output_type": "stream",
     "text": [
      "Цей код виконується ДО виклику функції\n",
      "Привіт усім\n",
      "Цей код виконається ПІСЛЯ виклику функції\n"
     ]
    }
   ],
   "source": [
    "def sayHello():\n",
    "    print('Привіт усім')\n",
    "sayHello = decorator(sayHello)\n",
    "sayHello"
   ]
  },
  {
   "cell_type": "code",
   "execution_count": 46,
   "id": "36929e49",
   "metadata": {},
   "outputs": [
    {
     "name": "stdout",
     "output_type": "stream",
     "text": [
      "Цей код виконується ДО виклику функції\n",
      "Привіт усім\n",
      "Цей код виконається ПІСЛЯ виклику функції\n"
     ]
    }
   ],
   "source": [
    "@decorator\n",
    "def sayHello():\n",
    "    print('Привіт усім')"
   ]
  },
  {
   "cell_type": "code",
   "execution_count": 54,
   "id": "05545e8c",
   "metadata": {},
   "outputs": [],
   "source": [
    "import time \n",
    "def benchmark(f):\n",
    "    \n",
    "    def _benchmark(*args, **kw):\n",
    "        current_time = time.process_time()\n",
    "        rez = f(*args, **kw)\n",
    "        dt = time.process_time() - current_time\n",
    "        print('Час виконання функції %1.5f сек' %dt)\n",
    "        return rez\n",
    "    return _benchmark"
   ]
  },
  {
   "cell_type": "code",
   "execution_count": 68,
   "id": "db920e27",
   "metadata": {},
   "outputs": [],
   "source": [
    "@benchmark\n",
    "def Fibonacci(n):\n",
    "    F1 = F2 = 1\n",
    "    for i in range(2, n+1):\n",
    "        F2, F1 = F1, F1 + F2\n",
    "    return F1"
   ]
  },
  {
   "cell_type": "code",
   "execution_count": 69,
   "id": "98f5afe5",
   "metadata": {},
   "outputs": [
    {
     "name": "stdout",
     "output_type": "stream",
     "text": [
      "Час виконання функції 0.00001 сек\n",
      "89\n"
     ]
    }
   ],
   "source": [
    "N = 10\n",
    "print(Fibonacci(N))"
   ]
  },
  {
   "cell_type": "code",
   "execution_count": null,
   "id": "a169df08",
   "metadata": {},
   "outputs": [],
   "source": []
  }
 ],
 "metadata": {
  "kernelspec": {
   "display_name": "Python 3",
   "language": "python",
   "name": "python3"
  },
  "language_info": {
   "codemirror_mode": {
    "name": "ipython",
    "version": 3
   },
   "file_extension": ".py",
   "mimetype": "text/x-python",
   "name": "python",
   "nbconvert_exporter": "python",
   "pygments_lexer": "ipython3",
   "version": "3.8.8"
  }
 },
 "nbformat": 4,
 "nbformat_minor": 5
}
