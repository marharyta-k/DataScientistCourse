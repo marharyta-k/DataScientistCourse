{
 "cells": [
  {
   "cell_type": "code",
   "execution_count": 13,
   "id": "8a0b9e5b",
   "metadata": {},
   "outputs": [
    {
     "name": "stdout",
     "output_type": "stream",
     "text": [
      "[2, 4, 6]\n"
     ]
    }
   ],
   "source": [
    "def multiply(list_):\n",
    "    new_list = []\n",
    "    for item in list_:\n",
    "        new_list.append(item*2)\n",
    "    return new_list\n",
    "print(multiply([1,2,3]))"
   ]
  },
  {
   "cell_type": "code",
   "execution_count": 17,
   "id": "58b20732",
   "metadata": {},
   "outputs": [
    {
     "name": "stdout",
     "output_type": "stream",
     "text": [
      "[2, 4, 6]\n"
     ]
    }
   ],
   "source": [
    "def multiply(list_):\n",
    "    new_list = []\n",
    "    for item in list_:\n",
    "        new_list.append(item*2)\n",
    "    return print(new_list)\n",
    "multiply([1,2,3])"
   ]
  },
  {
   "cell_type": "code",
   "execution_count": 20,
   "id": "67d8cdbb",
   "metadata": {},
   "outputs": [
    {
     "ename": "AttributeError",
     "evalue": "'str' object has no attribute 'append'",
     "output_type": "error",
     "traceback": [
      "\u001b[0;31m---------------------------------------------------------------------------\u001b[0m",
      "\u001b[0;31mAttributeError\u001b[0m                            Traceback (most recent call last)",
      "\u001b[0;32m<ipython-input-20-2b25683a0a38>\u001b[0m in \u001b[0;36m<cell line: 8>\u001b[0;34m()\u001b[0m\n\u001b[1;32m      6\u001b[0m \u001b[0;34m\u001b[0m\u001b[0m\n\u001b[1;32m      7\u001b[0m \u001b[0mnew_list\u001b[0m \u001b[0;34m=\u001b[0m \u001b[0;34m''\u001b[0m\u001b[0;34m\u001b[0m\u001b[0;34m\u001b[0m\u001b[0m\n\u001b[0;32m----> 8\u001b[0;31m \u001b[0mprint\u001b[0m\u001b[0;34m(\u001b[0m\u001b[0mmultiply\u001b[0m\u001b[0;34m(\u001b[0m\u001b[0;34m[\u001b[0m\u001b[0;36m1\u001b[0m\u001b[0;34m,\u001b[0m\u001b[0;36m2\u001b[0m\u001b[0;34m,\u001b[0m\u001b[0;36m3\u001b[0m\u001b[0;34m]\u001b[0m\u001b[0;34m)\u001b[0m\u001b[0;34m)\u001b[0m\u001b[0;34m\u001b[0m\u001b[0;34m\u001b[0m\u001b[0m\n\u001b[0m",
      "\u001b[0;32m<ipython-input-20-2b25683a0a38>\u001b[0m in \u001b[0;36mmultiply\u001b[0;34m(list_)\u001b[0m\n\u001b[1;32m      2\u001b[0m \u001b[0;32mdef\u001b[0m \u001b[0mmultiply\u001b[0m\u001b[0;34m(\u001b[0m\u001b[0mlist_\u001b[0m\u001b[0;34m)\u001b[0m\u001b[0;34m:\u001b[0m\u001b[0;34m\u001b[0m\u001b[0;34m\u001b[0m\u001b[0m\n\u001b[1;32m      3\u001b[0m     \u001b[0;32mfor\u001b[0m \u001b[0mitem\u001b[0m \u001b[0;32min\u001b[0m \u001b[0mlist_\u001b[0m\u001b[0;34m:\u001b[0m\u001b[0;34m\u001b[0m\u001b[0;34m\u001b[0m\u001b[0m\n\u001b[0;32m----> 4\u001b[0;31m         \u001b[0mnew_list\u001b[0m\u001b[0;34m.\u001b[0m\u001b[0mappend\u001b[0m\u001b[0;34m(\u001b[0m\u001b[0mitem\u001b[0m\u001b[0;34m*\u001b[0m\u001b[0;36m2\u001b[0m\u001b[0;34m)\u001b[0m\u001b[0;34m\u001b[0m\u001b[0;34m\u001b[0m\u001b[0m\n\u001b[0m\u001b[1;32m      5\u001b[0m     \u001b[0;32mreturn\u001b[0m \u001b[0mnew_list\u001b[0m\u001b[0;34m\u001b[0m\u001b[0;34m\u001b[0m\u001b[0m\n\u001b[1;32m      6\u001b[0m \u001b[0;34m\u001b[0m\u001b[0m\n",
      "\u001b[0;31mAttributeError\u001b[0m: 'str' object has no attribute 'append'"
     ]
    }
   ],
   "source": [
    "new_list = []\n",
    "def multiply(list_):\n",
    "    for item in list_:\n",
    "        new_list.append(item*2)\n",
    "    return new_list\n",
    "\n",
    "new_list = ''\n",
    "print(multiply([1,2,3]))"
   ]
  },
  {
   "cell_type": "code",
   "execution_count": 24,
   "id": "81aae2f2",
   "metadata": {},
   "outputs": [
    {
     "name": "stdout",
     "output_type": "stream",
     "text": [
      "[2, 4, 6]\n",
      "[1, 2, 3]\n"
     ]
    }
   ],
   "source": [
    "my_list = [1,2,3]\n",
    "def multiply(item):\n",
    "    return item*2\n",
    "\n",
    "print(list(map(multiply, my_list)))\n",
    "print(my_list)"
   ]
  },
  {
   "cell_type": "code",
   "execution_count": 34,
   "id": "00fcdf86",
   "metadata": {},
   "outputs": [
    {
     "name": "stdout",
     "output_type": "stream",
     "text": [
      "[2]\n",
      "[1, 2, 3]\n"
     ]
    }
   ],
   "source": [
    "my_list = [1,2,3]\n",
    "def check_even(item):\n",
    "    return item % 2 == 0\n",
    "\n",
    "print(list(filter(check_even, my_list)))\n",
    "print(my_list)"
   ]
  },
  {
   "cell_type": "code",
   "execution_count": 39,
   "id": "f470a61b",
   "metadata": {},
   "outputs": [
    {
     "data": {
      "text/plain": [
       "[(1, 4, 7, 1), (2, 5, 8, 2), (3, 6, 9, 3)]"
      ]
     },
     "execution_count": 39,
     "metadata": {},
     "output_type": "execute_result"
    }
   ],
   "source": [
    "list1 = [1,2,3]\n",
    "list2 = [4,5,6]\n",
    "list3 = [7,8,9]\n",
    "tuple4 = (1,2,3)\n",
    "list(zip(list1,list2,list3, tuple4))"
   ]
  },
  {
   "cell_type": "code",
   "execution_count": 40,
   "id": "28135cca",
   "metadata": {},
   "outputs": [
    {
     "name": "stdout",
     "output_type": "stream",
     "text": [
      "N = 5\n",
      "5 !  =  120\n"
     ]
    }
   ],
   "source": [
    "N = int(input(\"N = \"))\n",
    "a = 1\n",
    "for n in range(1, N+1):\n",
    "    a = n*a\n",
    "print(N,\"!\", \" = \", a)"
   ]
  },
  {
   "cell_type": "code",
   "execution_count": 49,
   "id": "b2e4b1d0",
   "metadata": {},
   "outputs": [
    {
     "name": "stdout",
     "output_type": "stream",
     "text": [
      "5\n"
     ]
    }
   ],
   "source": [
    "def Fibonacci(N):\n",
    "    F1 = 1\n",
    "    F2 = 1\n",
    "    for n in range(2, N+1):\n",
    "        F3 = F1 + F2\n",
    "        F2 = F1\n",
    "        F1 = F3\n",
    "    return F3\n",
    "\n",
    "print(Fibonacci(4))"
   ]
  },
  {
   "cell_type": "code",
   "execution_count": null,
   "id": "4c57c403",
   "metadata": {},
   "outputs": [],
   "source": [
    "F3 = # змінна для n-3 го члену послідовності\n",
    "F2 = # змінна для n-2 го члену послідовності\n",
    "F1 = # змінна для n-1 го члену послідовності\n",
    "for n in range (3, N+1):\n",
    "    # Обчислюємо наступне значення послідовності з одночасним зсувом попередніх значень.\n",
    "    F3, F2, F1 = F2, F1, f(...)"
   ]
  },
  {
   "cell_type": "code",
   "execution_count": 62,
   "id": "714330f1",
   "metadata": {},
   "outputs": [
    {
     "name": "stdout",
     "output_type": "stream",
     "text": [
      "5\n"
     ]
    }
   ],
   "source": [
    "def Fibonacci(N):\n",
    "    F2 = 1 #Перший член\n",
    "    F1 = 1 #Другий член\n",
    "    for n in range(2, N+1):\n",
    "        F2, F1 = F1, F1 + F2\n",
    "    return F1\n",
    "\n",
    "print(Fibonacci(4))"
   ]
  },
  {
   "cell_type": "code",
   "execution_count": null,
   "id": "01716327",
   "metadata": {},
   "outputs": [],
   "source": [
    "[expression for item in collection]"
   ]
  },
  {
   "cell_type": "code",
   "execution_count": 69,
   "id": "1ee47968",
   "metadata": {},
   "outputs": [
    {
     "name": "stdout",
     "output_type": "stream",
     "text": [
      "[1, 2, 3]\n",
      "[2, 6]\n"
     ]
    }
   ],
   "source": [
    "list_ = [1,2,3]\n",
    "new_list = [item*2 for item in list_ if item%2 == 1]\n",
    "print(list_)\n",
    "print(new_list)"
   ]
  },
  {
   "cell_type": "code",
   "execution_count": null,
   "id": "b5dd881c",
   "metadata": {},
   "outputs": [],
   "source": [
    "lambda args: result"
   ]
  }
 ],
 "metadata": {
  "kernelspec": {
   "display_name": "Python 3",
   "language": "python",
   "name": "python3"
  },
  "language_info": {
   "codemirror_mode": {
    "name": "ipython",
    "version": 3
   },
   "file_extension": ".py",
   "mimetype": "text/x-python",
   "name": "python",
   "nbconvert_exporter": "python",
   "pygments_lexer": "ipython3",
   "version": "3.8.8"
  }
 },
 "nbformat": 4,
 "nbformat_minor": 5
}
